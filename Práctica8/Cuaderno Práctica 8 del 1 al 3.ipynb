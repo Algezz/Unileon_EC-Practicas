{
  "nbformat": 4,
  "nbformat_minor": 0,
  "metadata": {
    "colab": {
      "provenance": []
    },
    "kernelspec": {
      "name": "python3",
      "display_name": "Python 3"
    },
    "language_info": {
      "name": "python"
    }
  },
  "cells": [
    {
      "cell_type": "markdown",
      "source": [],
      "metadata": {
        "id": "LCTYVFQ4PGtk"
      }
    },
    {
      "cell_type": "markdown",
      "source": [
        "Ejercicio 1:\n",
        "Realiza las siguientes operaciones:\n",
        "Guarda en una variable el número de tu DNI (sin letra)\n",
        "Calcula el resto de dividir tu DNI entre 23\n",
        "Página 6 de 8\n",
        "GRADO EN ING. INFORMÁTICA. ULE Estructura de Computadores\n",
        "Almacena en una lista los valores de la tabla en las posiciones correspon-\n",
        "dientes.\n",
        "Usa el resto como índice para acceder al elemento de la lista y muéstralo\n",
        "por pantalla\n",
        "¿Coincide con la letra de tu DNI?\n",
        "\n",
        "Índice 0 1 2 3 4 5 6 7 8 9 1 0 11 12 13\n",
        "\n",
        "Valor T R W A G M Y F P D X B N J\n",
        "\n",
        "Índice 14 15 16 17 18 19 20 21 22\n",
        "\n",
        "Valor Z S Q V H L C K E"
      ],
      "metadata": {
        "id": "JlV_7PZwO9eY"
      }
    },
    {
      "cell_type": "code",
      "execution_count": 9,
      "metadata": {
        "colab": {
          "base_uri": "https://localhost:8080/"
        },
        "id": "4r0UURW4O5D2",
        "outputId": "0c050eca-291a-4e9c-82bd-f443f6a00eaa"
      },
      "outputs": [
        {
          "output_type": "stream",
          "name": "stdout",
          "text": [
            "Escribe tu DNI sin letra: 71560302\n",
            "La letra del DNI: 71560302 es: B\n"
          ]
        }
      ],
      "source": [
        "dni = int(input(\"Escribe tu DNI sin letra: \"))\n",
        "resto = dni%23\n",
        "dic = {0:\"T\" ,1:\"R\" ,2:\"W\" ,3:\"A\" ,4:\"G\" ,5:\"M\" ,6:\"Y\" ,7:\"F\" ,8:\"P\" ,9:\"D\" ,10:\"X\" ,11:\"B\" ,12:\"N\" ,13:\"J\" ,14:\"Z\" ,15:\"S\" ,16:\"Q\" ,17:\"V\" ,18:\"H\" ,19:\"L\" ,20:\"C\" ,21:\"K\" ,22:\"E\"}\n",
        "let = [\"T\",\"R\",\"W\",\"A\",\"G\",\"M\",\"Y\",\"F\",\"P\",\"D\",\"X\",\"B\",\"N\",\"J\",\"Z\",\"S\",\"Q\",\"V\",\"H\",\"L\",\"C\",\"K\",\"E\"]\n",
        "print(\"La letra del DNI: \"+str(dni)+\" es: \"+str(let[resto]))"
      ]
    },
    {
      "cell_type": "markdown",
      "source": [
        "Ejercicio 2:\n",
        "Crear una lista con los valores -4, -2, 0, 2, 4. Crear una nueva lista con los\n",
        "valores duplicados usando comprensión de listas. Filtrar la lista para excluir los\n",
        "números negativos."
      ],
      "metadata": {
        "id": "vpJeQHNfTJ4P"
      }
    },
    {
      "cell_type": "code",
      "source": [
        "lista = [-4,-2,0,2,4]\n",
        "print(lista)\n",
        "lista2=[x*2 for x in lista]\n",
        "print(lista2)\n",
        "lista3=[x for x in lista2 if x>=0]\n",
        "print(lista3)"
      ],
      "metadata": {
        "colab": {
          "base_uri": "https://localhost:8080/"
        },
        "id": "UXjZ9JpyTPaO",
        "outputId": "ee2f30d0-1f67-40f3-d7c8-29d1c55de6c4"
      },
      "execution_count": 19,
      "outputs": [
        {
          "output_type": "stream",
          "name": "stdout",
          "text": [
            "[-4, -2, 0, 2, 4]\n",
            "[-8, -4, 0, 4, 8]\n",
            "[0, 4, 8]\n"
          ]
        }
      ]
    },
    {
      "cell_type": "markdown",
      "source": [
        "Ejercicio 3:\n",
        "Escribe un programa que tenga una clase Alumno con nombre y nota.\n",
        "Haz un método __init__ donde se lee el nombre y la nota.\n",
        "Haz un método mostrarNombre donde se imprime el nombre.\n",
        "Haz un método mostrarNota donde se imprime la nota\n",
        "Haz un método calculaNotaLiteral donde se imprima la nota literal co-\n",
        "rrespondiente al valor numérico de la nota.\n",
        "Haz varias instancias con distintos valores y muestra el nombre, la nota y\n",
        "la nota literal para ver que funciona."
      ],
      "metadata": {
        "id": "Mtl1afUfVBrV"
      }
    },
    {
      "cell_type": "code",
      "source": [
        "class alumno():\n",
        "  def __init__(self,nombre,nota):\n",
        "    self.nombre=nombre\n",
        "    self.nota=nota\n",
        "  def mostrarNombre(self):\n",
        "    return(self.nombre)\n",
        "  def mostrarNota(self):\n",
        "    return(self.nota)\n",
        "  def CalculaNotaLiteral(self):\n",
        "    if(self.nota<5):\n",
        "      return(\"Suspenso\")\n",
        "    elif(self.nota<7):\n",
        "      return(\"Aprobado\")\n",
        "    if(self.nota<9):\n",
        "      return(\"Notable\")\n",
        "    if(self.nota<10):\n",
        "      return(\"Sobresaliente\")\n",
        "    else:\n",
        "      return(\"Matrícula de honor\")"
      ],
      "metadata": {
        "id": "AmSJeeTNVHI8"
      },
      "execution_count": 56,
      "outputs": []
    },
    {
      "cell_type": "code",
      "source": [
        "al1= alumno(\"Juan\", 8.9)\n",
        "print(\"El alumno: \"+str(al1.mostrarNombre())+\" cuya nota es \"+str(al1.mostrarNota())+\" tiene la calificacion de \"+str(al1.CalculaNotaLiteral())+\"\\n\")"
      ],
      "metadata": {
        "colab": {
          "base_uri": "https://localhost:8080/"
        },
        "id": "ECMVXV6mY-N_",
        "outputId": "24d61ea0-4fa5-4fd5-c8a9-5acd2c70b05b"
      },
      "execution_count": 57,
      "outputs": [
        {
          "output_type": "stream",
          "name": "stdout",
          "text": [
            "El alumno: Juan cuya nota es 8.9 tiene la calificacion de Notable\n",
            "\n"
          ]
        }
      ]
    }
  ]
}